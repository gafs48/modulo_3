{
 "cells": [
  {
   "cell_type": "markdown",
   "metadata": {},
   "source": [
    "### 01 - Teste de gravidez\n",
    "Escreva uma célula com controle de fluxos que tem como premissa a existência das seguintes variáveis:\n",
    "\n",
    "- ```sexo``` como ```str``` indicando os valores '**M**' para masculino e '**F**' para feminino  \n",
    "- ```beta_hcg``` que indica a quantidade do beta-HCG no sangue em mUI/mL.\n",
    "\n",
    "A sua tarefa é escrever um código que imprima como resultado \"indivíduo do sexo masculino\" quando sexo = 'M', caso sexo = 'F', se o valor de beta-HCG for maior que 5, retorne \"Positivo\" indicando que a paciente está grávida, e retorne \"Negativo\" caso contrário.\n",
    "\n",
    "Não mexa nos valores da variável ```sexo``` nem em ```beta_hcg```, e escreva um código que funcione para quaisquer valores possíveis de ambos: ```sexo``` = '**M**' ou '**F**' e ```beta_hcg``` assumindo valores inteiros positivos."
   ]
  },
  {
   "cell_type": "code",
   "execution_count": 35,
   "metadata": {},
   "outputs": [
    {
     "name": "stdout",
     "output_type": "stream",
     "text": [
      "Qual o seu sexo? \n",
      "[M -> MASCULINO]\n",
      "[F -> FEMININO] \n",
      "\tRESPOSTA:f\n",
      "Qual o valor do Beta HCG: 5.1\n",
      "\n",
      "Parabéns, você está grávida!\n"
     ]
    }
   ],
   "source": [
    "sexo = 'M'\n",
    "beta_hcg = 0\n",
    "\n",
    "# seu código vem abaixo desta linha\n",
    "\n",
    "#Entrada pelo teclado do usuário referente ao sexo\n",
    "pergunta_sexo = input(str('Qual o seu sexo? \\n[M -> MASCULINO]\\n[F -> FEMININO] \\n\\tRESPOSTA:')).strip().upper()\n",
    "\n",
    "# Condição para verificar o sexo\n",
    "if pergunta_sexo == sexo:\n",
    "    print('\\nVocê é homem, é impossível engravidar!')\n",
    "else:\n",
    "    # Caso o sexo seja Feminino, entra no segundo input, o valor do Beta HCG\n",
    "    pergunta_beta_hcg = input('Qual o valor do Beta HCG: ')\n",
    "    pergunta_beta_hcg = float(pergunta_beta_hcg) # transformando o valor em float\n",
    "    \n",
    "    # Condição para saber se o Beta HCG é maior do que 5\n",
    "    if pergunta_beta_hcg > 5:\n",
    "        print('\\nParabéns, você está grávida!')\n",
    "    # Condição para saber se o Beta HCG é menor ou igual a 5\n",
    "    elif pergunta_beta_hcg <= 5:\n",
    "        print('\\nVocê não está grávida!')"
   ]
  },
  {
   "cell_type": "markdown",
   "metadata": {},
   "source": [
    "### 02 - Renomeando variáveis\n",
    "\n",
    "Vamos ver adiante que uma forma de renomear variáveis de um conjunto de dados é através de dicionários - o dicionário deve conter como chave o nome original, associando a cada chave um único valor (tipo *str*) que contenha o nome novo.\n",
    "\n",
    "A sua tarefa é escrever um dicionário que possa ser utilizado para traduzir as variáveis ```name``` (nome), ```age``` (idade) e ```income``` (renda). Ou seja, esse dicionário deve relacionar as chaves *name, age* e *income* às suas respectivas traduções."
   ]
  },
  {
   "cell_type": "code",
   "execution_count": 4,
   "metadata": {},
   "outputs": [
    {
     "data": {
      "text/plain": [
       "{'name': 'nome', 'age': 'idade', 'income': 'renda'}"
      ]
     },
     "execution_count": 4,
     "metadata": {},
     "output_type": "execute_result"
    }
   ],
   "source": [
    "# Eu não consegui entender o que o professor pediu nessa questão!\n",
    "\n",
    "dic_renomeacao = {'name': 'nome', 'age': 'idade', 'income': 'renda'}\n",
    "dic_renomeacao"
   ]
  },
  {
   "cell_type": "markdown",
   "metadata": {},
   "source": [
    "### 03 - É divisível?\n",
    "A sua tarefa é escrever um código que indique se um número ```N``` é divisível por um número P. Escreva um programa que faça essa verificação para quaisquer combinações de ```N``` e ```M``` e devolva uma mensagem indicativa no output."
   ]
  },
  {
   "cell_type": "code",
   "execution_count": 12,
   "metadata": {},
   "outputs": [
    {
     "name": "stdout",
     "output_type": "stream",
     "text": [
      "O número 42 é divisível por 7 e o resultado é: 6.0\n"
     ]
    }
   ],
   "source": [
    "N = 42\n",
    "M = 7\n",
    "\n",
    "#Seu código\n",
    "\n",
    "#Condição para saber se o resto da divisão de N por M é igual a 0\n",
    "if N % M == 0:\n",
    "    print(f'O número {N} é divisível por {M} e o resultado é: {N/M}')\n",
    "else:\n",
    "    print(f'O número: {N} não é divisível por {M}, a divisão entre eles é: {round(N/M, 2)}!')"
   ]
  },
  {
   "cell_type": "markdown",
   "metadata": {},
   "source": [
    "### 04 - Números primos\n",
    "> Um número **N** é primo se e somente se é divisível por 1, -1, por **N** e por -**N**.  \n",
    "\n",
    "Escreva um script que verifica se ```N``` é um número primo, verificando se ```N``` é divisível por todos os números de ```1``` a ```N-1```. Você vai precisar usar alguma ferramenta de *loop* que você aprendeu para isto. No final, devolva uma mensagem no output indicando se o número é primo ou não."
   ]
  },
  {
   "cell_type": "code",
   "execution_count": 19,
   "metadata": {},
   "outputs": [
    {
     "name": "stdout",
     "output_type": "stream",
     "text": [
      "O número 7 é primo!\n"
     ]
    }
   ],
   "source": [
    "N = 7\n",
    "\n",
    "# seu código abaixo\n",
    "\n",
    "contador = 0\n",
    "\n",
    "# Loop for para verificar se o número é divisível por 1 e por ele mesmo!\n",
    "for i in range(1, N + 1):\n",
    "    if N % i == 0:\n",
    "        contador += 1 # Contador para armazenar o número de vezes que o resto da divisão for zero.\n",
    "        \n",
    "# Entrega do resultado!\n",
    "if contador == 2:\n",
    "    print(f'O número {N} é primo!')\n",
    "else:\n",
    "    print(f'O número {N} não é primo!')\n"
   ]
  },
  {
   "cell_type": "markdown",
   "metadata": {},
   "source": [
    "### 05 - Desafio\n",
    "O algorítmo do exercício anterior não é o mais eficiente. O que você pode fazer para deixá-lo mais eficiente? Ou seja, executar menos comparações, portanto consumir menos tempo.\n",
    "1. Será que precisamos correr o loop até o final sempre?\n",
    "2. Será que precisamos mesmo verificar **todos** os números?\n",
    "3. Será que precisamos ir até N-1?\n",
    "\n",
    "Essas perguntas levam ao tipo de pensamento voltado a deixar um algoritmo mais eficiente. Veja se você consegue melhorar o seu."
   ]
  },
  {
   "cell_type": "code",
   "execution_count": 36,
   "metadata": {},
   "outputs": [
    {
     "name": "stdout",
     "output_type": "stream",
     "text": [
      "\n",
      "O número 6 não é primo!\n"
     ]
    }
   ],
   "source": [
    "N = 6\n",
    "\n",
    "# seu código aqui\n",
    "\n",
    "contador = 0\n",
    "\n",
    "# Loop for para verificar se o número é divisível por 1 e por ele mesmo!\n",
    "for i in range(1, N + 1):\n",
    "    \n",
    "    if N % i == 0:\n",
    "        contador += 1 # Contador para armazenar o número de vezes que o resto da divisão for zero.\n",
    "        \n",
    "    # Condição para a quebra do Loop caso o contador já tenha ultrapassado o valor 2!\n",
    "    if contador > 2:\n",
    "        print(f'\\nO número {N} não é primo!')\n",
    "        break\n",
    "        \n",
    "# Condição para entregar o resultado final, caso o número seja primo!\n",
    "if contador == 2:\n",
    "    print(f'\\nO número {N} é primo!')\n",
    "\n"
   ]
  },
  {
   "cell_type": "markdown",
   "metadata": {},
   "source": [
    "### 06 - Peso ideal 1\n",
    "O IMC (índice de massa corpórea) é um indicador de saúde mais bem aceito que o peso. Ele é calculado como:\n",
    "\n",
    "$$ IMC = \\dfrac{peso}{altura^2}$$\n",
    "\n",
    "Segundo a OMS, valores *normais* são entre 18.5 e 24.9.\n",
    "\n",
    "Sua tarefa é encontrar o ponto médio dessa faixa."
   ]
  },
  {
   "cell_type": "code",
   "execution_count": 37,
   "metadata": {},
   "outputs": [
    {
     "data": {
      "text/plain": [
       "21.7"
      ]
     },
     "execution_count": 37,
     "metadata": {},
     "output_type": "execute_result"
    }
   ],
   "source": [
    "imc_ideal = (18.5 + 24.9) / 2\n",
    "imc_ideal"
   ]
  },
  {
   "cell_type": "markdown",
   "metadata": {},
   "source": [
    "### 07 - Peso ideal 2\n",
    "Recebendo um valor de altura, encontre o peso '*ideal*' dessa pessoa, que fornece o IMC encontrado acima"
   ]
  },
  {
   "cell_type": "code",
   "execution_count": 39,
   "metadata": {},
   "outputs": [
    {
     "data": {
      "text/plain": [
       "62.71"
      ]
     },
     "execution_count": 39,
     "metadata": {},
     "output_type": "execute_result"
    }
   ],
   "source": [
    "altura = 1.70\n",
    "\n",
    "# Seu código\n",
    "peso_ideal = round(altura ** 2 * 21.7, 2) # Calculo que multiplica a Altura² pelo IMC ideal.\n",
    "peso_ideal"
   ]
  },
  {
   "cell_type": "markdown",
   "metadata": {},
   "source": [
    "### 08 - Peso ideal 3\n",
    "Dada uma lista contendo as alturas de pacientes, crie uma nova lista que contenha o peso '*ideal*' (que fornece o IMC calculado em **Peso ideal 1**) desses pacientes."
   ]
  },
  {
   "cell_type": "code",
   "execution_count": 46,
   "metadata": {},
   "outputs": [
    {
     "data": {
      "text/plain": [
       "[82.51, 91.19, 62.71, 59.08]"
      ]
     },
     "execution_count": 46,
     "metadata": {},
     "output_type": "execute_result"
    }
   ],
   "source": [
    "lista_alturas = [1.95, 2.05, 1.70, 1.65]\n",
    "\n",
    "# utilizei a função map(), para percorrer o vetor lista_alturas e uma função lambda para fazer o calculo do peso ideal!\n",
    "lista_peso_ideal = list(map(lambda x: round(x**2 * 21.7, 2), lista_alturas))\n",
    "\n",
    "# seu código\n",
    "\n",
    "lista_peso_ideal"
   ]
  },
  {
   "cell_type": "markdown",
   "metadata": {},
   "source": [
    "### 09 - Peso ideal 4\n",
    "Dada uma lista de tuplas - cada elemento da lista é uma tupla contendo altura e peso de um paciente - crie uma nova lista com o IMC desses pacientes."
   ]
  },
  {
   "cell_type": "code",
   "execution_count": 55,
   "metadata": {},
   "outputs": [
    {
     "data": {
      "text/plain": [
       "[27.78, 27.55, 19.19]"
      ]
     },
     "execution_count": 55,
     "metadata": {},
     "output_type": "execute_result"
    }
   ],
   "source": [
    "altura_peso = [(1.80, 90), (1.65, 75), (1.91, 70)]\n",
    "\n",
    "imc = []\n",
    "\n",
    "# seu código\n",
    "# Loop para percorrer o vetor altura_peso e calcular o IMC dos elementos!\n",
    "for elemento in altura_peso:\n",
    "    imc.append(round(elemento[1] / elemento[0] ** 2, 2)) # Adicionando o cálculo do IMC dos elementos no vetor imc, já arredondados em duas casas decimais.\n",
    "    \n",
    "imc"
   ]
  },
  {
   "cell_type": "markdown",
   "metadata": {},
   "source": [
    "### 10 - Peso ideal 5\n",
    "Dada uma lista de **listas** - cada elemento da lista é uma **lista** contendo altura e peso de um paciente, adicione mais um elemento à lista de cada paciente contendo o IMC do paciente. Verifique também se é 'baixo', 'normal' ou 'alto' segundo os padrões da OMS em que normal é entre 18.5 e 24.9.\n",
    "\n",
    "Reflexão: por que no problema anterior temos que criar uma nova lista, e não podemos adicionar os dados de cada indivíduo à tupla?"
   ]
  },
  {
   "cell_type": "code",
   "execution_count": 57,
   "metadata": {},
   "outputs": [
    {
     "name": "stdout",
     "output_type": "stream",
     "text": [
      "[[1.8, 90, 27.78, 'Alto'], [1.65, 75, 27.55, 'Alto'], [1.91, 70, 19.19, 'Normal']]\n"
     ]
    }
   ],
   "source": [
    "altura_peso = [[1.80, 90], [1.65, 75], [1.91, 70]]\n",
    "\n",
    "# seu código\n",
    "\n",
    "for indice, elemento in enumerate(altura_peso):\n",
    "    imc = round(elemento[1] / elemento[0] ** 2, 2)\n",
    "    altura_peso[indice].append(imc)\n",
    "    if 24.9 > imc >= 18.5:\n",
    "        altura_peso[indice].append('Normal')\n",
    "    elif imc < 18.5:\n",
    "        altura_peso[indice].append('Baixo')\n",
    "    else:\n",
    "        altura_peso[indice].append('Alto')\n",
    "\n",
    "print(altura_peso)"
   ]
  },
  {
   "cell_type": "code",
   "execution_count": null,
   "metadata": {},
   "outputs": [],
   "source": []
  }
 ],
 "metadata": {
  "kernelspec": {
   "display_name": "Python 3 (ipykernel)",
   "language": "python",
   "name": "python3"
  },
  "language_info": {
   "codemirror_mode": {
    "name": "ipython",
    "version": 3
   },
   "file_extension": ".py",
   "mimetype": "text/x-python",
   "name": "python",
   "nbconvert_exporter": "python",
   "pygments_lexer": "ipython3",
   "version": "3.9.13"
  }
 },
 "nbformat": 4,
 "nbformat_minor": 4
}
